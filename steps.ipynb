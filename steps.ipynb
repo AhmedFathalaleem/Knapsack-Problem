{
 "cells": [
  {
   "cell_type": "code",
   "execution_count": 1,
   "metadata": {},
   "outputs": [],
   "source": [
    "import tkinter as tk\n",
    "from tkinter import ttk\n",
    "from tkinter import messagebox\n",
    "from functools import partial\n",
    "import random"
   ]
  },
  {
   "cell_type": "markdown",
   "metadata": {},
   "source": [
    "## Constructor"
   ]
  },
  {
   "cell_type": "code",
   "execution_count": 2,
   "metadata": {},
   "outputs": [],
   "source": [
    "class GeneticKnapsackSolver:\n",
    "    def __init__(self, weights, values, max_weight, population_size, mutation_probability, generations, unbounded=False):\n",
    "        self.items = list(zip(weights, values))\n",
    "        self.max_weight = max_weight\n",
    "        self.population_size = population_size\n",
    "        self.mutation_probability = mutation_probability\n",
    "        self.generations = generations\n",
    "        self.unbounded = unbounded\n",
    "        self.population = self.generate_population()"
   ]
  },
  {
   "cell_type": "markdown",
   "metadata": {},
   "source": [
    "## Generate population"
   ]
  },
  {
   "cell_type": "code",
   "execution_count": 3,
   "metadata": {},
   "outputs": [],
   "source": [
    "def generate_population(self):     # Unbounded should choose any chromosome any number of times \n",
    "        population = []                # Currently it chooses it only twice and no more than that in all attempts\n",
    "        for _ in range(self.population_size):\n",
    "            genes = [0, 1] if not self.unbounded else [0, 1, 2]  # Add 2 for unbounded knapsack\n",
    "            chromosome = [random.choice(genes) for _ in range(len(self.items))]\n",
    "            population.append(chromosome)\n",
    "        return population"
   ]
  }
 ],
 "metadata": {
  "kernelspec": {
   "display_name": "Python 3",
   "language": "python",
   "name": "python3"
  },
  "language_info": {
   "codemirror_mode": {
    "name": "ipython",
    "version": 3
   },
   "file_extension": ".py",
   "mimetype": "text/x-python",
   "name": "python",
   "nbconvert_exporter": "python",
   "pygments_lexer": "ipython3",
   "version": "3.12.0"
  }
 },
 "nbformat": 4,
 "nbformat_minor": 2
}
